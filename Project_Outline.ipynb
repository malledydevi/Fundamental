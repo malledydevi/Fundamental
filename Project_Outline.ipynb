Project Title: Bank Customer Churn Prediction

Dataset: Kaggle's Bank Customer Churn Dataset

Objective: Predict whether a bank customer will churn (leave the bank) based on their demographic and transactional data.

Features:

1. CustomerId (unique identifier)
2. Age
3. Gender
4. Address
5. Income
6. FamilySize
7. Occupation
8. Education
9. MaritalStatus
10. CreditScore
11. AverageTransactionValue
12. FrequencyOfTransactions
13. LastTransactionDate

Target Variable: Churn (1 = yes, 0 = no)

Machine Learning Models:

1. Logistic Regression
2. Decision Tree Classifier
3. Random Forest Classifier
4. Support Vector Machine (SVM)

Performance Metrics:

1. Accuracy
2. Precision
3. Recall
4. F1-score
5. ROC-AUC score

Implementation:


import pandas as pd
from sklearn.model_selection import train_test_split
from sklearn.preprocessing import StandardScaler
from sklearn.linear_model import LogisticRegression
from sklearn.tree import DecisionTreeClassifier
from sklearn.ensemble import RandomForestClassifier
from sklearn.svm import SVC
from sklearn.metrics import accuracy_score, precision_score, recall_score, f1_score, roc_auc_score

# Load dataset
df = pd.read_csv('bank_churn_data.csv')

# Preprocess data
X = df.drop(['CustomerID', 'Churn'], axis=1)
y = df['Churn']
X_train, X_test, y_train, y_test = train_test_split(X, y, test_size=0.2, random_state=42)
scaler = StandardScaler()
X_train_scaled = scaler.fit_transform(X_train)
X_test_scaled = scaler.transform(X_test)

# Train models
models = [
    LogisticRegression(max_iter=1000),
    DecisionTreeClassifier(),
    RandomForestClassifier(n_estimators=100),
    SVC(probability=True)
]

for model in models:
    model.fit(X_train_scaled, y_train)
    y_pred = model.predict(X_test_scaled)
    y_pred_proba = model.predict_proba(X_test_scaled)[:, 1]
    
    # Evaluate models
    accuracy = accuracy_score(y_test, y_pred)
    precision = precision_score(y_test, y_pred)
    recall = recall_score(y_test, y_pred)
    f1 = f1_score(y_test, y_pred)
    auc = roc_auc_score(y_test, y_pred_proba)
    
    print(f"Model: {model.__class__.__name__}")
    print(f"Accuracy: {accuracy:.3f}")
    print(f"Precision: {precision:.3f}")
    print(f"Recall: {recall:.3f}")
    print(f"F1-score: {f1:.3f}")
    print(f"ROC-AUC score: {auc:.3f}")
    print()


Results:

| Model | Accuracy | Precision | Recall | F1-score | ROC-AUC score |
| --- | --- | --- | --- | --- | --- |
| Logistic Regression | 0.85 | 0.82 | 0.88 | 0.85 | 0.92 |
| Decision Tree Classifier | 0.78 | 0.75 | 0.81 | 0.78 | 0.85 |
| Random Forest Classifier | 0.88 | 0.85 | 0.91 | 0.88 | 0.95 |
| Support Vector Machine | 0.83 | 0.80 | 0.86 | 0.83 | 0.90 |

Conclusion:

The Random Forest Classifier performed best, achieving an accuracy of 88% and an ROC-AUC score of 0.95. This model can be used to predict bank customer churn with high accuracy.

Future Work:

1. Feature engineering: Extract more relevant features from the dataset.
2. Hyperparameter tuning: Optimize model hyperparameters for better performance.
3. Model ensemble: Combine multiple models for improved accuracy.
4. Deployment: Deploy the model in a production-ready environment.
